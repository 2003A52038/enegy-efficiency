{
 "cells": [
  {
   "cell_type": "code",
   "execution_count": 1,
   "id": "aacd4107",
   "metadata": {},
   "outputs": [],
   "source": [
    "import pandas as pd"
   ]
  },
  {
   "cell_type": "code",
   "execution_count": 2,
   "id": "2a19fdc3",
   "metadata": {},
   "outputs": [],
   "source": [
    "df=pd.read_excel(\"ENB2012_data.xlsx\")"
   ]
  },
  {
   "cell_type": "code",
   "execution_count": 3,
   "id": "b8dba1dd",
   "metadata": {},
   "outputs": [
    {
     "data": {
      "text/html": [
       "<div>\n",
       "<style scoped>\n",
       "    .dataframe tbody tr th:only-of-type {\n",
       "        vertical-align: middle;\n",
       "    }\n",
       "\n",
       "    .dataframe tbody tr th {\n",
       "        vertical-align: top;\n",
       "    }\n",
       "\n",
       "    .dataframe thead th {\n",
       "        text-align: right;\n",
       "    }\n",
       "</style>\n",
       "<table border=\"1\" class=\"dataframe\">\n",
       "  <thead>\n",
       "    <tr style=\"text-align: right;\">\n",
       "      <th></th>\n",
       "      <th>X1</th>\n",
       "      <th>X2</th>\n",
       "      <th>X3</th>\n",
       "      <th>X4</th>\n",
       "      <th>X5</th>\n",
       "      <th>X6</th>\n",
       "      <th>X7</th>\n",
       "      <th>X8</th>\n",
       "      <th>Y1</th>\n",
       "      <th>Y2</th>\n",
       "    </tr>\n",
       "  </thead>\n",
       "  <tbody>\n",
       "    <tr>\n",
       "      <th>0</th>\n",
       "      <td>0.98</td>\n",
       "      <td>514.5</td>\n",
       "      <td>294.0</td>\n",
       "      <td>110.25</td>\n",
       "      <td>7.0</td>\n",
       "      <td>2</td>\n",
       "      <td>0.0</td>\n",
       "      <td>0</td>\n",
       "      <td>15.55</td>\n",
       "      <td>21.33</td>\n",
       "    </tr>\n",
       "    <tr>\n",
       "      <th>1</th>\n",
       "      <td>0.98</td>\n",
       "      <td>514.5</td>\n",
       "      <td>294.0</td>\n",
       "      <td>110.25</td>\n",
       "      <td>7.0</td>\n",
       "      <td>3</td>\n",
       "      <td>0.0</td>\n",
       "      <td>0</td>\n",
       "      <td>15.55</td>\n",
       "      <td>21.33</td>\n",
       "    </tr>\n",
       "    <tr>\n",
       "      <th>2</th>\n",
       "      <td>0.98</td>\n",
       "      <td>514.5</td>\n",
       "      <td>294.0</td>\n",
       "      <td>110.25</td>\n",
       "      <td>7.0</td>\n",
       "      <td>4</td>\n",
       "      <td>0.0</td>\n",
       "      <td>0</td>\n",
       "      <td>15.55</td>\n",
       "      <td>21.33</td>\n",
       "    </tr>\n",
       "    <tr>\n",
       "      <th>3</th>\n",
       "      <td>0.98</td>\n",
       "      <td>514.5</td>\n",
       "      <td>294.0</td>\n",
       "      <td>110.25</td>\n",
       "      <td>7.0</td>\n",
       "      <td>5</td>\n",
       "      <td>0.0</td>\n",
       "      <td>0</td>\n",
       "      <td>15.55</td>\n",
       "      <td>21.33</td>\n",
       "    </tr>\n",
       "    <tr>\n",
       "      <th>4</th>\n",
       "      <td>0.90</td>\n",
       "      <td>563.5</td>\n",
       "      <td>318.5</td>\n",
       "      <td>122.50</td>\n",
       "      <td>7.0</td>\n",
       "      <td>2</td>\n",
       "      <td>0.0</td>\n",
       "      <td>0</td>\n",
       "      <td>20.84</td>\n",
       "      <td>28.28</td>\n",
       "    </tr>\n",
       "    <tr>\n",
       "      <th>...</th>\n",
       "      <td>...</td>\n",
       "      <td>...</td>\n",
       "      <td>...</td>\n",
       "      <td>...</td>\n",
       "      <td>...</td>\n",
       "      <td>...</td>\n",
       "      <td>...</td>\n",
       "      <td>...</td>\n",
       "      <td>...</td>\n",
       "      <td>...</td>\n",
       "    </tr>\n",
       "    <tr>\n",
       "      <th>763</th>\n",
       "      <td>0.64</td>\n",
       "      <td>784.0</td>\n",
       "      <td>343.0</td>\n",
       "      <td>220.50</td>\n",
       "      <td>3.5</td>\n",
       "      <td>5</td>\n",
       "      <td>0.4</td>\n",
       "      <td>5</td>\n",
       "      <td>17.88</td>\n",
       "      <td>21.40</td>\n",
       "    </tr>\n",
       "    <tr>\n",
       "      <th>764</th>\n",
       "      <td>0.62</td>\n",
       "      <td>808.5</td>\n",
       "      <td>367.5</td>\n",
       "      <td>220.50</td>\n",
       "      <td>3.5</td>\n",
       "      <td>2</td>\n",
       "      <td>0.4</td>\n",
       "      <td>5</td>\n",
       "      <td>16.54</td>\n",
       "      <td>16.88</td>\n",
       "    </tr>\n",
       "    <tr>\n",
       "      <th>765</th>\n",
       "      <td>0.62</td>\n",
       "      <td>808.5</td>\n",
       "      <td>367.5</td>\n",
       "      <td>220.50</td>\n",
       "      <td>3.5</td>\n",
       "      <td>3</td>\n",
       "      <td>0.4</td>\n",
       "      <td>5</td>\n",
       "      <td>16.44</td>\n",
       "      <td>17.11</td>\n",
       "    </tr>\n",
       "    <tr>\n",
       "      <th>766</th>\n",
       "      <td>0.62</td>\n",
       "      <td>808.5</td>\n",
       "      <td>367.5</td>\n",
       "      <td>220.50</td>\n",
       "      <td>3.5</td>\n",
       "      <td>4</td>\n",
       "      <td>0.4</td>\n",
       "      <td>5</td>\n",
       "      <td>16.48</td>\n",
       "      <td>16.61</td>\n",
       "    </tr>\n",
       "    <tr>\n",
       "      <th>767</th>\n",
       "      <td>0.62</td>\n",
       "      <td>808.5</td>\n",
       "      <td>367.5</td>\n",
       "      <td>220.50</td>\n",
       "      <td>3.5</td>\n",
       "      <td>5</td>\n",
       "      <td>0.4</td>\n",
       "      <td>5</td>\n",
       "      <td>16.64</td>\n",
       "      <td>16.03</td>\n",
       "    </tr>\n",
       "  </tbody>\n",
       "</table>\n",
       "<p>768 rows × 10 columns</p>\n",
       "</div>"
      ],
      "text/plain": [
       "       X1     X2     X3      X4   X5  X6   X7  X8     Y1     Y2\n",
       "0    0.98  514.5  294.0  110.25  7.0   2  0.0   0  15.55  21.33\n",
       "1    0.98  514.5  294.0  110.25  7.0   3  0.0   0  15.55  21.33\n",
       "2    0.98  514.5  294.0  110.25  7.0   4  0.0   0  15.55  21.33\n",
       "3    0.98  514.5  294.0  110.25  7.0   5  0.0   0  15.55  21.33\n",
       "4    0.90  563.5  318.5  122.50  7.0   2  0.0   0  20.84  28.28\n",
       "..    ...    ...    ...     ...  ...  ..  ...  ..    ...    ...\n",
       "763  0.64  784.0  343.0  220.50  3.5   5  0.4   5  17.88  21.40\n",
       "764  0.62  808.5  367.5  220.50  3.5   2  0.4   5  16.54  16.88\n",
       "765  0.62  808.5  367.5  220.50  3.5   3  0.4   5  16.44  17.11\n",
       "766  0.62  808.5  367.5  220.50  3.5   4  0.4   5  16.48  16.61\n",
       "767  0.62  808.5  367.5  220.50  3.5   5  0.4   5  16.64  16.03\n",
       "\n",
       "[768 rows x 10 columns]"
      ]
     },
     "execution_count": 3,
     "metadata": {},
     "output_type": "execute_result"
    }
   ],
   "source": [
    "df"
   ]
  },
  {
   "cell_type": "code",
   "execution_count": 4,
   "id": "633d5e68",
   "metadata": {},
   "outputs": [
    {
     "data": {
      "text/html": [
       "<div>\n",
       "<style scoped>\n",
       "    .dataframe tbody tr th:only-of-type {\n",
       "        vertical-align: middle;\n",
       "    }\n",
       "\n",
       "    .dataframe tbody tr th {\n",
       "        vertical-align: top;\n",
       "    }\n",
       "\n",
       "    .dataframe thead th {\n",
       "        text-align: right;\n",
       "    }\n",
       "</style>\n",
       "<table border=\"1\" class=\"dataframe\">\n",
       "  <thead>\n",
       "    <tr style=\"text-align: right;\">\n",
       "      <th></th>\n",
       "      <th>X1</th>\n",
       "      <th>X2</th>\n",
       "      <th>X3</th>\n",
       "      <th>X4</th>\n",
       "      <th>X5</th>\n",
       "      <th>X6</th>\n",
       "      <th>X7</th>\n",
       "      <th>X8</th>\n",
       "      <th>Y1</th>\n",
       "      <th>Y2</th>\n",
       "    </tr>\n",
       "  </thead>\n",
       "  <tbody>\n",
       "    <tr>\n",
       "      <th>0</th>\n",
       "      <td>0.98</td>\n",
       "      <td>514.5</td>\n",
       "      <td>294.0</td>\n",
       "      <td>110.25</td>\n",
       "      <td>7.0</td>\n",
       "      <td>2</td>\n",
       "      <td>0.0</td>\n",
       "      <td>0</td>\n",
       "      <td>15.55</td>\n",
       "      <td>21.33</td>\n",
       "    </tr>\n",
       "    <tr>\n",
       "      <th>1</th>\n",
       "      <td>0.98</td>\n",
       "      <td>514.5</td>\n",
       "      <td>294.0</td>\n",
       "      <td>110.25</td>\n",
       "      <td>7.0</td>\n",
       "      <td>3</td>\n",
       "      <td>0.0</td>\n",
       "      <td>0</td>\n",
       "      <td>15.55</td>\n",
       "      <td>21.33</td>\n",
       "    </tr>\n",
       "    <tr>\n",
       "      <th>2</th>\n",
       "      <td>0.98</td>\n",
       "      <td>514.5</td>\n",
       "      <td>294.0</td>\n",
       "      <td>110.25</td>\n",
       "      <td>7.0</td>\n",
       "      <td>4</td>\n",
       "      <td>0.0</td>\n",
       "      <td>0</td>\n",
       "      <td>15.55</td>\n",
       "      <td>21.33</td>\n",
       "    </tr>\n",
       "    <tr>\n",
       "      <th>3</th>\n",
       "      <td>0.98</td>\n",
       "      <td>514.5</td>\n",
       "      <td>294.0</td>\n",
       "      <td>110.25</td>\n",
       "      <td>7.0</td>\n",
       "      <td>5</td>\n",
       "      <td>0.0</td>\n",
       "      <td>0</td>\n",
       "      <td>15.55</td>\n",
       "      <td>21.33</td>\n",
       "    </tr>\n",
       "    <tr>\n",
       "      <th>4</th>\n",
       "      <td>0.90</td>\n",
       "      <td>563.5</td>\n",
       "      <td>318.5</td>\n",
       "      <td>122.50</td>\n",
       "      <td>7.0</td>\n",
       "      <td>2</td>\n",
       "      <td>0.0</td>\n",
       "      <td>0</td>\n",
       "      <td>20.84</td>\n",
       "      <td>28.28</td>\n",
       "    </tr>\n",
       "  </tbody>\n",
       "</table>\n",
       "</div>"
      ],
      "text/plain": [
       "     X1     X2     X3      X4   X5  X6   X7  X8     Y1     Y2\n",
       "0  0.98  514.5  294.0  110.25  7.0   2  0.0   0  15.55  21.33\n",
       "1  0.98  514.5  294.0  110.25  7.0   3  0.0   0  15.55  21.33\n",
       "2  0.98  514.5  294.0  110.25  7.0   4  0.0   0  15.55  21.33\n",
       "3  0.98  514.5  294.0  110.25  7.0   5  0.0   0  15.55  21.33\n",
       "4  0.90  563.5  318.5  122.50  7.0   2  0.0   0  20.84  28.28"
      ]
     },
     "execution_count": 4,
     "metadata": {},
     "output_type": "execute_result"
    }
   ],
   "source": [
    "df.head()"
   ]
  },
  {
   "cell_type": "code",
   "execution_count": 6,
   "id": "5d3117a8",
   "metadata": {},
   "outputs": [
    {
     "name": "stdout",
     "output_type": "stream",
     "text": [
      "0      0.98\n",
      "1      0.98\n",
      "2      0.98\n",
      "3      0.98\n",
      "4      0.90\n",
      "       ... \n",
      "763    0.64\n",
      "764    0.62\n",
      "765    0.62\n",
      "766    0.62\n",
      "767    0.62\n",
      "Name: X1, Length: 768, dtype: float64 0      514.5\n",
      "1      514.5\n",
      "2      514.5\n",
      "3      514.5\n",
      "4      563.5\n",
      "       ...  \n",
      "763    784.0\n",
      "764    808.5\n",
      "765    808.5\n",
      "766    808.5\n",
      "767    808.5\n",
      "Name: X2, Length: 768, dtype: float64 0      294.0\n",
      "1      294.0\n",
      "2      294.0\n",
      "3      294.0\n",
      "4      318.5\n",
      "       ...  \n",
      "763    343.0\n",
      "764    367.5\n",
      "765    367.5\n",
      "766    367.5\n",
      "767    367.5\n",
      "Name: X3, Length: 768, dtype: float64 0      110.25\n",
      "1      110.25\n",
      "2      110.25\n",
      "3      110.25\n",
      "4      122.50\n",
      "        ...  \n",
      "763    220.50\n",
      "764    220.50\n",
      "765    220.50\n",
      "766    220.50\n",
      "767    220.50\n",
      "Name: X4, Length: 768, dtype: float64 0      7.0\n",
      "1      7.0\n",
      "2      7.0\n",
      "3      7.0\n",
      "4      7.0\n",
      "      ... \n",
      "763    3.5\n",
      "764    3.5\n",
      "765    3.5\n",
      "766    3.5\n",
      "767    3.5\n",
      "Name: X5, Length: 768, dtype: float64 0      2\n",
      "1      3\n",
      "2      4\n",
      "3      5\n",
      "4      2\n",
      "      ..\n",
      "763    5\n",
      "764    2\n",
      "765    3\n",
      "766    4\n",
      "767    5\n",
      "Name: X6, Length: 768, dtype: int64 0      0.0\n",
      "1      0.0\n",
      "2      0.0\n",
      "3      0.0\n",
      "4      0.0\n",
      "      ... \n",
      "763    0.4\n",
      "764    0.4\n",
      "765    0.4\n",
      "766    0.4\n",
      "767    0.4\n",
      "Name: X7, Length: 768, dtype: float64 0      0\n",
      "1      0\n",
      "2      0\n",
      "3      0\n",
      "4      0\n",
      "      ..\n",
      "763    5\n",
      "764    5\n",
      "765    5\n",
      "766    5\n",
      "767    5\n",
      "Name: X8, Length: 768, dtype: int64 0      15.55\n",
      "1      15.55\n",
      "2      15.55\n",
      "3      15.55\n",
      "4      20.84\n",
      "       ...  \n",
      "763    17.88\n",
      "764    16.54\n",
      "765    16.44\n",
      "766    16.48\n",
      "767    16.64\n",
      "Name: Y1, Length: 768, dtype: float64 0      21.33\n",
      "1      21.33\n",
      "2      21.33\n",
      "3      21.33\n",
      "4      28.28\n",
      "       ...  \n",
      "763    21.40\n",
      "764    16.88\n",
      "765    17.11\n",
      "766    16.61\n",
      "767    16.03\n",
      "Name: Y2, Length: 768, dtype: float64\n"
     ]
    }
   ],
   "source": [
    "x1=df['X1']\n",
    "x2=df['X2']\n",
    "x3=df['X3']\n",
    "x4=df['X4']\n",
    "x5=df['X5']\n",
    "x6=df['X6']\n",
    "x7=df['X7']\n",
    "x8=df['X8']\n",
    "y1=df['Y1']\n",
    "y2=df['Y2']\n",
    "print(x1,x2,x3,x4,x5,x6,x7,x8,x9,y)"
   ]
  },
  {
   "cell_type": "code",
   "execution_count": 9,
   "id": "5cd3569b",
   "metadata": {},
   "outputs": [
    {
     "name": "stdout",
     "output_type": "stream",
     "text": [
      "2 3 4 5 6 7 8 9 10 422.9064064025879\n",
      "3 4 5 6 7 8 9 10 11 3.699687957763672\n",
      "4 5 6 7 8 9 10 11 12 294.82497787475586\n",
      "5 6 7 8 9 10 11 12 13 296.2822456359863\n",
      "6 7 8 9 10 11 12 13 14 8.071586608886719\n",
      "7 8 9 10 11 12 13 14 15 430.1928253173828\n",
      "8 9 10 11 12 13 14 15 16 62.646087646484375\n",
      "9 10 11 12 13 14 15 16 17 405.4314270019531\n",
      "10 11 12 13 14 15 16 17 18 458.5487518310547\n",
      "11 12 13 14 15 16 17 18 19 221.998046875\n",
      "12 13 14 15 16 17 18 19 20 195.77923583984375\n",
      "13 14 15 16 17 18 19 20 21 379.8924560546875\n",
      "14 15 16 17 18 19 20 21 22 274.3376159667969\n",
      "15 16 17 18 19 20 21 22 23 379.1150207519531\n",
      "16 17 18 19 20 21 22 23 24 194.22430419921875\n",
      "17 18 19 20 21 22 23 24 25 219.66574096679688\n",
      "18 19 20 21 22 23 24 25 26 455.4387512207031\n",
      "19 20 21 22 23 24 25 26 27 401.54425048828125\n",
      "20 21 22 23 24 25 26 27 28 57.98126220703125\n",
      "21 22 23 24 25 26 27 28 29 424.750732421875\n",
      "22 23 24 25 26 27 28 29 30 1.85198974609375\n",
      "23 24 25 26 27 28 29 30 31 289.28509521484375\n",
      "24 25 26 27 28 29 30 31 32 287.05047607421875\n",
      "25 26 27 28 29 30 31 32 33 495.14776611328125\n",
      "26 27 28 29 30 31 32 33 34 413.57733154296875\n",
      "27 28 29 30 31 32 33 34 35 42.33837890625\n",
      "28 29 30 31 32 33 34 35 36 381.43212890625\n",
      "29 30 31 32 33 34 35 36 37 430.8568115234375\n",
      "30 31 32 33 34 35 36 37 38 190.6142578125\n",
      "31 32 33 34 35 36 37 38 39 160.70458984375\n",
      "32 33 34 35 36 37 38 39 40 341.124267578125\n",
      "33 34 35 36 37 38 39 40 41 231.877685546875\n",
      "34 35 36 37 38 39 40 41 42 332.9635009765625\n",
      "35 36 37 38 39 40 41 42 43 144.3804931640625\n",
      "36 37 38 39 40 41 42 43 44 166.1292724609375\n",
      "37 38 39 40 41 42 43 44 45 398.210693359375\n",
      "38 39 40 41 42 43 44 45 46 340.6241455078125\n",
      "39 40 41 42 43 44 45 46 47 493.37060546875\n",
      "40 41 42 43 44 45 46 47 48 356.44677734375\n",
      "41 42 43 44 45 46 47 48 49 429.856689453125\n",
      "42 43 44 45 46 47 48 49 50 213.596435546875\n",
      "43 44 45 46 47 48 49 50 51 207.6708984375\n",
      "44 45 46 47 48 49 50 51 52 412.07568359375\n",
      "45 46 47 48 49 50 51 52 53 326.813720703125\n",
      "46 47 48 49 50 51 52 53 54 451.883056640625\n",
      "47 48 49 50 51 52 53 54 55 287.28564453125\n",
      "48 49 50 51 52 53 54 55 56 333.01611328125\n",
      "49 50 51 52 53 54 55 56 57 89.081787109375\n",
      "50 51 52 53 54 55 56 57 58 55.478515625\n",
      "51 52 53 54 55 56 57 58 59 232.208740234375\n",
      "52 53 54 55 56 57 58 59 60 119.26953125\n",
      "53 54 55 56 57 58 59 60 61 216.6640625\n",
      "54 55 56 57 58 59 60 61 62 24.3896484375\n",
      "55 56 57 58 59 60 61 62 63 42.44580078125\n",
      "56 57 58 59 60 61 62 63 64 270.83447265625\n",
      "57 58 59 60 61 62 63 64 65 209.556640625\n",
      "58 59 60 61 62 63 64 65 66 358.611328125\n",
      "59 60 61 62 63 64 65 66 67 217.99560546875\n",
      "60 61 62 63 64 65 66 67 68 287.7119140625\n",
      "61 62 63 64 65 66 67 68 69 67.763671875\n",
      "62 63 64 65 66 67 68 69 70 58.14111328125\n",
      "63 64 65 66 67 68 69 70 71 258.8603515625\n",
      "64 65 66 67 68 69 70 71 72 169.904296875\n",
      "65 66 67 68 69 70 71 72 73 291.27783203125\n",
      "66 67 68 69 70 71 72 73 74 122.990234375\n",
      "67 68 69 70 71 72 73 74 75 165.0263671875\n",
      "68 69 70 71 72 73 74 75 76 417.40087890625\n",
      "69 70 71 72 73 74 75 76 77 380.11083984375\n",
      "70 71 72 73 74 75 76 77 78 53.1435546875\n",
      "71 72 73 74 75 76 77 78 79 436.513671875\n",
      "72 73 74 75 76 77 78 79 80 30.216796875\n",
      "73 74 75 76 77 78 79 80 81 334.24755859375\n",
      "74 75 76 77 78 79 80 81 82 348.6181640625\n",
      "75 76 77 78 79 80 81 82 83 73.31298828125\n",
      "76 77 78 79 80 81 82 83 84 8.3427734375\n",
      "77 78 79 80 81 82 83 84 85 153.70361328125\n",
      "78 79 80 81 82 83 84 85 86 9.39453125\n",
      "79 80 81 82 83 84 85 86 87 75.4208984375\n",
      "80 81 82 83 84 85 86 87 88 351.7734375\n",
      "81 82 83 84 85 86 87 88 89 338.46875\n",
      "82 83 84 85 86 87 88 89 90 35.4951171875\n",
      "83 84 85 86 87 88 89 90 91 442.8408203125\n",
      "84 85 86 87 88 89 90 91 92 60.525390625\n",
      "85 86 87 88 89 90 91 92 93 388.552734375\n",
      "86 87 88 89 90 91 92 93 94 426.8955078125\n",
      "87 88 89 90 91 92 93 94 95 175.5703125\n",
      "88 89 90 91 92 93 94 95 96 134.583984375\n",
      "89 90 91 92 93 94 95 96 97 303.927734375\n",
      "90 91 92 93 94 95 96 97 98 183.6142578125\n",
      "91 92 93 94 95 96 97 98 99 273.6171875\n",
      "92 93 94 95 96 97 98 99 100 73.9638671875\n",
      "93 94 95 96 97 98 99 100 101 84.634765625\n",
      "94 95 96 97 98 99 100 101 102 305.63671875\n",
      "95 96 97 98 99 100 101 102 103 236.9716796875\n",
      "96 97 98 99 100 101 102 103 104 378.64453125\n",
      "97 98 99 100 101 102 103 104 105 230.650390625\n",
      "98 99 100 101 102 103 104 105 106 292.9814453125\n",
      "99 100 101 102 103 104 105 106 107 65.64453125\n",
      "100 101 102 103 104 105 106 107 108 48.6474609375\n"
     ]
    }
   ],
   "source": [
    "import numpy as np\n",
    "\n",
    "e=[]\n",
    "ee=[]\n",
    "def linear(m1,m2,m3,m4,m5,m6,m7,m8,m9,c):\n",
    "  sum=0\n",
    "  yp=[]\n",
    "\n",
    "  for i in range(0,500):\n",
    "    yp.append(m1*x1[i]+m2*x2[i]+m3*x3[i]+m4*x4[i]+m5*x5[i]+m6*x6[i]+m7*x7[i]+m8*x8[i]+m9*x9[i]+c)\n",
    "    g=(y[i]-yp[i])**2\n",
    "    sum=sum+g\n",
    "  e.append(sum)\n",
    "  ee.append(np.mod(sum,500))\n",
    "  print(m1,m2,m3,m4,m5,m6,m7,m8,m9,c,np.mod(sum,500))\n",
    "  sum=0\n",
    "\n",
    "\n",
    "for i in range(1,100):\n",
    "  linear(1+i,2+i,3+i,4+i,5+i,6+i,7+i,8+i,9+i,10+i)"
   ]
  },
  {
   "cell_type": "code",
   "execution_count": 10,
   "id": "99d60458",
   "metadata": {},
   "outputs": [
    {
     "name": "stdout",
     "output_type": "stream",
     "text": [
      "[422.9064064025879, 3.699687957763672, 294.82497787475586, 296.2822456359863, 8.071586608886719, 430.1928253173828, 62.646087646484375, 405.4314270019531, 458.5487518310547, 221.998046875, 195.77923583984375, 379.8924560546875, 274.3376159667969, 379.1150207519531, 194.22430419921875, 219.66574096679688, 455.4387512207031, 401.54425048828125, 57.98126220703125, 424.750732421875, 1.85198974609375, 289.28509521484375, 287.05047607421875, 495.14776611328125, 413.57733154296875, 42.33837890625, 381.43212890625, 430.8568115234375, 190.6142578125, 160.70458984375, 341.124267578125, 231.877685546875, 332.9635009765625, 144.3804931640625, 166.1292724609375, 398.210693359375, 340.6241455078125, 493.37060546875, 356.44677734375, 429.856689453125, 213.596435546875, 207.6708984375, 412.07568359375, 326.813720703125, 451.883056640625, 287.28564453125, 333.01611328125, 89.081787109375, 55.478515625, 232.208740234375, 119.26953125, 216.6640625, 24.3896484375, 42.44580078125, 270.83447265625, 209.556640625, 358.611328125, 217.99560546875, 287.7119140625, 67.763671875, 58.14111328125, 258.8603515625, 169.904296875, 291.27783203125, 122.990234375, 165.0263671875, 417.40087890625, 380.11083984375, 53.1435546875, 436.513671875, 30.216796875, 334.24755859375, 348.6181640625, 73.31298828125, 8.3427734375, 153.70361328125, 9.39453125, 75.4208984375, 351.7734375, 338.46875, 35.4951171875, 442.8408203125, 60.525390625, 388.552734375, 426.8955078125, 175.5703125, 134.583984375, 303.927734375, 183.6142578125, 273.6171875, 73.9638671875, 84.634765625, 305.63671875, 236.9716796875, 378.64453125, 230.650390625, 292.9814453125, 65.64453125, 48.6474609375]\n"
     ]
    }
   ],
   "source": [
    "print(ee)"
   ]
  },
  {
   "cell_type": "code",
   "execution_count": 11,
   "id": "37c8e302",
   "metadata": {},
   "outputs": [
    {
     "name": "stdout",
     "output_type": "stream",
     "text": [
      "1.85198974609375\n"
     ]
    }
   ],
   "source": [
    "a=np.array(ee).min()\n",
    "print(a)\n",
    "c=np.where(ee==a)"
   ]
  },
  {
   "cell_type": "code",
   "execution_count": 12,
   "id": "90407a86",
   "metadata": {},
   "outputs": [
    {
     "name": "stdout",
     "output_type": "stream",
     "text": [
      "(array([20], dtype=int64),)\n"
     ]
    }
   ],
   "source": [
    "print(c)"
   ]
  },
  {
   "cell_type": "code",
   "execution_count": 13,
   "id": "d2647386",
   "metadata": {},
   "outputs": [
    {
     "name": "stdout",
     "output_type": "stream",
     "text": [
      "[ 0  1  2  3  4  5  6  7  8  9 10 11 12 13 14 15 16 17 18 19 20 21 22 23\n",
      " 24 25 26 27 28 29 30 31 32 33 34 35 36 37 38 39 40 41 42 43 44 45 46 47\n",
      " 48 49 50 51 52 53 54 55 56 57 58 59 60 61 62 63 64 65 66 67 68 69 70 71\n",
      " 72 73 74 75 76 77 78 79 80 81 82 83 84 85 86 87 88 89 90 91 92 93 94 95\n",
      " 96 97 98]\n"
     ]
    }
   ],
   "source": [
    "ee1=np.arange(0,99)\n",
    "print(ee1)"
   ]
  },
  {
   "cell_type": "code",
   "execution_count": 14,
   "id": "d58dfa6d",
   "metadata": {},
   "outputs": [
    {
     "name": "stdout",
     "output_type": "stream",
     "text": [
      "2 3 4 5 6 7 8 9 10 271.4896984100342\n",
      "3 4 5 6 7 8 9 10 11 437.4266929626465\n",
      "4 5 6 7 8 9 10 11 12 313.6957015991211\n",
      "5 6 7 8 9 10 11 12 13 400.2966957092285\n",
      "6 7 8 9 10 11 12 13 14 197.22966766357422\n",
      "7 8 9 10 11 12 13 14 15 204.4946746826172\n",
      "8 9 10 11 12 13 14 15 16 422.0916976928711\n",
      "9 10 11 12 13 14 15 16 17 350.0207214355469\n",
      "10 11 12 13 14 15 16 17 18 488.28173828125\n",
      "11 12 13 14 15 16 17 18 19 336.874755859375\n",
      "12 13 14 15 16 17 18 19 20 395.79974365234375\n",
      "13 14 15 16 17 18 19 20 21 165.05667114257812\n",
      "14 15 16 17 18 19 20 21 22 144.64572143554688\n",
      "15 16 17 18 19 20 21 22 23 334.5666198730469\n",
      "16 17 18 19 20 21 22 23 24 234.81988525390625\n",
      "17 18 19 20 21 22 23 24 25 345.40460205078125\n",
      "18 19 20 21 22 23 24 25 26 166.32177734375\n",
      "19 20 21 22 23 24 25 26 27 197.570556640625\n",
      "20 21 22 23 24 25 26 27 28 439.1514892578125\n",
      "21 22 23 24 25 26 27 28 29 391.06500244140625\n",
      "22 23 24 25 26 27 28 29 30 53.30987548828125\n",
      "23 24 25 26 27 28 29 30 31 425.8868408203125\n",
      "24 25 26 27 28 29 30 31 32 8.79559326171875\n",
      "25 26 27 28 29 30 31 32 33 302.03692626953125\n",
      "26 27 28 29 30 31 32 33 34 305.60931396484375\n",
      "27 28 29 30 31 32 33 34 35 19.5147705078125\n",
      "28 29 30 31 32 33 34 35 36 443.751953125\n",
      "29 30 31 32 33 34 35 36 37 78.321044921875\n",
      "30 31 32 33 34 35 36 37 38 423.2213134765625\n",
      "31 32 33 34 35 36 37 38 39 478.4549560546875\n",
      "32 33 34 35 36 37 38 39 40 244.020263671875\n",
      "33 34 35 36 37 38 39 40 41 219.91650390625\n",
      "34 35 36 37 38 39 40 41 42 406.1458740234375\n",
      "35 36 37 38 39 40 41 42 43 302.705810546875\n",
      "36 37 38 39 40 41 42 43 44 409.6002197265625\n",
      "37 38 39 40 41 42 43 44 45 226.8253173828125\n",
      "38 39 40 41 42 43 44 45 46 254.3809814453125\n",
      "39 40 41 42 43 44 45 46 47 492.2705078125\n",
      "40 41 42 43 44 45 46 47 48 440.4912109375\n",
      "41 42 43 44 45 46 47 48 49 99.04345703125\n",
      "42 43 44 45 46 47 48 49 50 467.93017578125\n",
      "43 44 45 46 47 48 49 50 51 47.146240234375\n",
      "44 45 46 47 48 49 50 51 52 336.69580078125\n",
      "45 46 47 48 49 50 51 52 53 336.577880859375\n",
      "46 47 48 49 50 51 52 53 54 46.790283203125\n",
      "47 48 49 50 51 52 53 54 55 467.335693359375\n",
      "48 49 50 51 52 53 54 55 56 98.21142578125\n",
      "49 50 51 52 53 54 55 56 57 439.42236328125\n",
      "50 51 52 53 54 55 56 57 58 490.961669921875\n",
      "51 52 53 54 55 56 57 58 59 252.835205078125\n",
      "52 53 54 55 56 57 58 59 60 225.039794921875\n",
      "53 54 55 56 57 58 59 60 61 407.576171875\n",
      "54 55 56 57 58 59 60 61 62 300.445556640625\n",
      "55 56 57 58 59 60 61 62 63 403.646484375\n",
      "56 57 58 59 60 61 62 63 64 217.181640625\n",
      "57 58 59 60 61 62 63 64 65 241.044921875\n",
      "58 59 60 61 62 63 64 65 66 475.24267578125\n",
      "59 60 61 62 63 64 65 66 67 419.77099609375\n",
      "60 61 62 63 64 65 66 67 68 74.63232421875\n",
      "61 62 63 64 65 66 67 68 69 439.82958984375\n",
      "62 63 64 65 66 67 68 69 70 15.35009765625\n",
      "63 64 65 66 67 68 69 70 71 301.20361328125\n",
      "64 65 66 67 68 69 70 71 72 297.39697265625\n",
      "65 66 67 68 69 70 71 72 73 3.91650390625\n",
      "66 67 68 69 70 71 72 73 74 420.76708984375\n",
      "67 68 69 70 71 72 73 74 75 47.955078125\n",
      "68 69 70 71 72 73 74 75 76 385.47265625\n",
      "69 70 71 72 73 74 75 76 77 433.3203125\n",
      "70 71 72 73 74 75 76 77 78 191.50390625\n",
      "71 72 73 74 75 76 77 78 79 160.0126953125\n",
      "72 73 74 75 76 77 78 79 80 338.86328125\n",
      "73 74 75 76 77 78 79 80 81 228.0361328125\n",
      "74 75 76 77 78 79 80 81 82 327.5419921875\n",
      "75 76 77 78 79 80 81 82 83 137.3857421875\n",
      "76 77 78 79 80 81 82 83 84 157.56005859375\n",
      "77 78 79 80 81 82 83 84 85 388.064453125\n",
      "78 79 80 81 82 83 84 85 86 328.9013671875\n",
      "79 80 81 82 83 84 85 86 87 480.0693359375\n",
      "80 81 82 83 84 85 86 87 88 341.5703125\n",
      "81 82 83 84 85 86 87 88 89 413.404296875\n",
      "82 83 84 85 86 87 88 89 90 195.5654296875\n",
      "83 84 85 86 87 88 89 90 91 188.0654296875\n",
      "84 85 86 87 88 89 90 91 92 390.896484375\n",
      "85 86 87 88 89 90 91 92 93 304.0537109375\n",
      "86 87 88 89 90 91 92 93 94 427.552734375\n",
      "87 88 89 90 91 92 93 94 95 261.37890625\n",
      "88 89 90 91 92 93 94 95 96 305.5283203125\n",
      "89 90 91 92 93 94 95 96 97 60.0224609375\n",
      "90 91 92 93 94 95 96 97 98 24.83984375\n",
      "91 92 93 94 95 96 97 98 99 199.9951171875\n",
      "92 93 94 95 96 97 98 99 100 85.482421875\n",
      "93 94 95 96 97 98 99 100 101 181.2998046875\n",
      "94 95 96 97 98 99 100 101 102 487.4423828125\n",
      "95 96 97 98 99 100 101 102 103 3.927734375\n",
      "96 97 98 99 100 101 102 103 104 230.732421875\n",
      "97 98 99 100 101 102 103 104 105 167.8798828125\n",
      "98 99 100 101 102 103 104 105 106 315.3603515625\n",
      "99 100 101 102 103 104 105 106 107 173.16796875\n",
      "100 101 102 103 104 105 106 107 108 241.3173828125\n"
     ]
    }
   ],
   "source": [
    "import numpy as np\n",
    "\n",
    "e=[]\n",
    "ee=[]\n",
    "def linear(m1,m2,m3,m4,m5,m6,m7,m8,c):\n",
    "  sum=0\n",
    "  yp=[]\n",
    "\n",
    "  for i in range(0,500):\n",
    "    yp.append(m1*x1[i]+m2*x2[i]+m3*x3[i]+m4*x4[i]+m5*x5[i]+m6*x6[i]+m7*x7[i]+m8*x8[i]+c)\n",
    "    g=(y2[i]-yp[i])**2\n",
    "    sum=sum+g\n",
    "  e.append(sum)\n",
    "  ee.append(np.mod(sum,500))\n",
    "  print(m1,m2,m3,m4,m5,m6,m7,m8,c,np.mod(sum,500))\n",
    "  sum=0\n",
    "\n",
    "\n",
    "for i in range(1,100):\n",
    "  linear(1+i,2+i,3+i,4+i,5+i,6+i,7+i,8+i,9+i)"
   ]
  },
  {
   "cell_type": "code",
   "execution_count": 15,
   "id": "ad73d034",
   "metadata": {},
   "outputs": [
    {
     "name": "stdout",
     "output_type": "stream",
     "text": [
      "[271.4896984100342, 437.4266929626465, 313.6957015991211, 400.2966957092285, 197.22966766357422, 204.4946746826172, 422.0916976928711, 350.0207214355469, 488.28173828125, 336.874755859375, 395.79974365234375, 165.05667114257812, 144.64572143554688, 334.5666198730469, 234.81988525390625, 345.40460205078125, 166.32177734375, 197.570556640625, 439.1514892578125, 391.06500244140625, 53.30987548828125, 425.8868408203125, 8.79559326171875, 302.03692626953125, 305.60931396484375, 19.5147705078125, 443.751953125, 78.321044921875, 423.2213134765625, 478.4549560546875, 244.020263671875, 219.91650390625, 406.1458740234375, 302.705810546875, 409.6002197265625, 226.8253173828125, 254.3809814453125, 492.2705078125, 440.4912109375, 99.04345703125, 467.93017578125, 47.146240234375, 336.69580078125, 336.577880859375, 46.790283203125, 467.335693359375, 98.21142578125, 439.42236328125, 490.961669921875, 252.835205078125, 225.039794921875, 407.576171875, 300.445556640625, 403.646484375, 217.181640625, 241.044921875, 475.24267578125, 419.77099609375, 74.63232421875, 439.82958984375, 15.35009765625, 301.20361328125, 297.39697265625, 3.91650390625, 420.76708984375, 47.955078125, 385.47265625, 433.3203125, 191.50390625, 160.0126953125, 338.86328125, 228.0361328125, 327.5419921875, 137.3857421875, 157.56005859375, 388.064453125, 328.9013671875, 480.0693359375, 341.5703125, 413.404296875, 195.5654296875, 188.0654296875, 390.896484375, 304.0537109375, 427.552734375, 261.37890625, 305.5283203125, 60.0224609375, 24.83984375, 199.9951171875, 85.482421875, 181.2998046875, 487.4423828125, 3.927734375, 230.732421875, 167.8798828125, 315.3603515625, 173.16796875, 241.3173828125]\n"
     ]
    }
   ],
   "source": [
    "print(ee)"
   ]
  },
  {
   "cell_type": "code",
   "execution_count": 16,
   "id": "8453a85c",
   "metadata": {},
   "outputs": [
    {
     "name": "stdout",
     "output_type": "stream",
     "text": [
      "3.91650390625\n"
     ]
    }
   ],
   "source": [
    "a=np.array(ee).min()\n",
    "print(a)\n",
    "c=np.where(ee==a)"
   ]
  },
  {
   "cell_type": "code",
   "execution_count": 17,
   "id": "c85240ed",
   "metadata": {},
   "outputs": [
    {
     "name": "stdout",
     "output_type": "stream",
     "text": [
      "(array([63], dtype=int64),)\n"
     ]
    }
   ],
   "source": [
    "print(c)"
   ]
  },
  {
   "cell_type": "code",
   "execution_count": 18,
   "id": "1215fc4c",
   "metadata": {},
   "outputs": [
    {
     "name": "stdout",
     "output_type": "stream",
     "text": [
      "[ 0  1  2  3  4  5  6  7  8  9 10 11 12 13 14 15 16 17 18 19 20 21 22 23\n",
      " 24 25 26 27 28 29 30 31 32 33 34 35 36 37 38 39 40 41 42 43 44 45 46 47\n",
      " 48 49 50 51 52 53 54 55 56 57 58 59 60 61 62 63 64 65 66 67 68 69 70 71\n",
      " 72 73 74 75 76 77 78 79 80 81 82 83 84 85 86 87 88 89 90 91 92 93 94 95\n",
      " 96 97 98]\n"
     ]
    }
   ],
   "source": [
    "ee1=np.arange(0,99)\n",
    "print(ee1)"
   ]
  },
  {
   "cell_type": "code",
   "execution_count": 24,
   "id": "71764df5",
   "metadata": {},
   "outputs": [
    {
     "name": "stdout",
     "output_type": "stream",
     "text": [
      "6 7 8 9 10 11 12 13 14 247.4911880493164\n"
     ]
    }
   ],
   "source": [
    "import numpy as np\n",
    "\n",
    "z=[]\n",
    "zz=[]\n",
    "def linear1(m1,m2,m3,m4,m5,m6,m7,m8,c):\n",
    "  sum=0\n",
    "  yp=[]\n",
    "  j=0\n",
    "\n",
    "  for i in range(501,768):\n",
    "    yp.append(m1*x1[i]+m2*x2[i]+m3*x3[i]+m4*x4[i]+m5*x5[i]+m6*x6[i]+m7*x7[i]+m8*x8[i]+c)\n",
    "    g=(y1[i]-yp[j])**2\n",
    "    sum=sum+g\n",
    "    j=j+1\n",
    "    sum=sum+g\n",
    "  z.append(sum)\n",
    "  zz.append(np.mod(sum,300))\n",
    "  print(m1,m2,m3,m4,m5,m6,m7,m8,c,np.mod(sum,300))\n",
    "\n",
    "\n",
    "linear1(6, 7, 8, 9, 10, 11, 12, 13,14)"
   ]
  },
  {
   "cell_type": "code",
   "execution_count": 25,
   "id": "354e8360",
   "metadata": {},
   "outputs": [
    {
     "name": "stdout",
     "output_type": "stream",
     "text": [
      "6 7 8 9 10 11 12 13 14 82.70478820800781\n"
     ]
    }
   ],
   "source": [
    "import numpy as np\n",
    "\n",
    "z=[]\n",
    "zz=[]\n",
    "def linear1(m1,m2,m3,m4,m5,m6,m7,m8,c):\n",
    "  sum=0\n",
    "  yp=[]\n",
    "  j=0\n",
    "\n",
    "  for i in range(501,768):\n",
    "    yp.append(m1*x1[i]+m2*x2[i]+m3*x3[i]+m4*x4[i]+m5*x5[i]+m6*x6[i]+m7*x7[i]+m8*x8[i]+c)\n",
    "    g=(y2[i]-yp[j])**2\n",
    "    sum=sum+g\n",
    "    j=j+1\n",
    "    sum=sum+g\n",
    "  z.append(sum)\n",
    "  zz.append(np.mod(sum,300))\n",
    "  print(m1,m2,m3,m4,m5,m6,m7,m8,c,np.mod(sum,300))\n",
    "\n",
    "\n",
    "linear1(6, 7, 8, 9, 10, 11, 12, 13, 14)"
   ]
  },
  {
   "cell_type": "code",
   "execution_count": 26,
   "id": "2334c554",
   "metadata": {},
   "outputs": [
    {
     "data": {
      "text/plain": [
       "[<matplotlib.lines.Line2D at 0x209c7c933a0>]"
      ]
     },
     "execution_count": 26,
     "metadata": {},
     "output_type": "execute_result"
    },
    {
     "data": {
      "image/png": "[encoded data removed]",
      "text/plain": [
       "<Figure size 432x288 with 1 Axes>"
      ]
     },
     "metadata": {
      "needs_background": "light"
     },
     "output_type": "display_data"
    }
   ],
   "source": [
    "from matplotlib import pyplot as pt\n",
    "pt.plot(ee1,ee)"
   ]
  },
  {
   "cell_type": "code",
   "execution_count": 27,
   "id": "12531209",
   "metadata": {},
   "outputs": [
    {
     "data": {
      "text/plain": [
       "<matplotlib.collections.PathCollection at 0x209c9407130>"
      ]
     },
     "execution_count": 27,
     "metadata": {},
     "output_type": "execute_result"
    },
    {
     "data": {
      "image/png": "[encoded data removed]",
      "text/plain": [
       "<Figure size 432x288 with 1 Axes>"
      ]
     },
     "metadata": {
      "needs_background": "light"
     },
     "output_type": "display_data"
    }
   ],
   "source": [
    "pt.scatter(x1,y1)"
   ]
  },
  {
   "cell_type": "code",
   "execution_count": 30,
   "id": "d68660d3",
   "metadata": {},
   "outputs": [
    {
     "data": {
      "text/plain": [
       "<matplotlib.collections.PathCollection at 0x209c9553b50>"
      ]
     },
     "execution_count": 30,
     "metadata": {},
     "output_type": "execute_result"
    },
    {
     "data": {
      "image/png": "[encoded data removed]",
      "text/plain": [
       "<Figure size 432x288 with 1 Axes>"
      ]
     },
     "metadata": {
      "needs_background": "light"
     },
     "output_type": "display_data"
    }
   ],
   "source": [
    "pt.scatter(x2,y1)"
   ]
  },
  {
   "cell_type": "code",
   "execution_count": 31,
   "id": "4cde778d",
   "metadata": {},
   "outputs": [
    {
     "data": {
      "text/plain": [
       "<matplotlib.collections.PathCollection at 0x209c95bffd0>"
      ]
     },
     "execution_count": 31,
     "metadata": {},
     "output_type": "execute_result"
    },
    {
     "data": {
      "image/png": "[encoded data removed]",
      "text/plain": [
       "<Figure size 432x288 with 1 Axes>"
      ]
     },
     "metadata": {
      "needs_background": "light"
     },
     "output_type": "display_data"
    }
   ],
   "source": [
    "pt.scatter(x3,y1)"
   ]
  },
  {
   "cell_type": "code",
   "execution_count": 32,
   "id": "3fd71468",
   "metadata": {},
   "outputs": [
    {
     "data": {
      "text/plain": [
       "<matplotlib.collections.PathCollection at 0x209c9631dc0>"
      ]
     },
     "execution_count": 32,
     "metadata": {},
     "output_type": "execute_result"
    },
    {
     "data": {
      "image/png": "[encoded data removed]",
      "text/plain": [
       "<Figure size 432x288 with 1 Axes>"
      ]
     },
     "metadata": {
      "needs_background": "light"
     },
     "output_type": "display_data"
    }
   ],
   "source": [
    "pt.scatter(x4,y1)"
   ]
  },
  {
   "cell_type": "code",
   "execution_count": 33,
   "id": "e5ae848f",
   "metadata": {},
   "outputs": [
    {
     "data": {
      "text/plain": [
       "<matplotlib.collections.PathCollection at 0x209c969acd0>"
      ]
     },
     "execution_count": 33,
     "metadata": {},
     "output_type": "execute_result"
    },
    {
     "data": {
      "image/png": "[encoded data removed]",
      "text/plain": [
       "<Figure size 432x288 with 1 Axes>"
      ]
     },
     "metadata": {
      "needs_background": "light"
     },
     "output_type": "display_data"
    }
   ],
   "source": [
    "pt.scatter(x5,y1)"
   ]
  },
  {
   "cell_type": "code",
   "execution_count": 34,
   "id": "2c5114ad",
   "metadata": {},
   "outputs": [
    {
     "data": {
      "text/plain": [
       "<matplotlib.collections.PathCollection at 0x209c970c910>"
      ]
     },
     "execution_count": 34,
     "metadata": {},
     "output_type": "execute_result"
    },
    {
     "data": {
      "image/png": "[encoded data removed]",
      "text/plain": [
       "<Figure size 432x288 with 1 Axes>"
      ]
     },
     "metadata": {
      "needs_background": "light"
     },
     "output_type": "display_data"
    }
   ],
   "source": [
    "pt.scatter(x6,y1)"
   ]
  },
  {
   "cell_type": "code",
   "execution_count": 35,
   "id": "00d70dbb",
   "metadata": {},
   "outputs": [
    {
     "data": {
      "text/plain": [
       "<matplotlib.collections.PathCollection at 0x209c96f6b50>"
      ]
     },
     "execution_count": 35,
     "metadata": {},
     "output_type": "execute_result"
    },
    {
     "data": {
      "image/png": "[encoded data removed]",
      "text/plain": [
       "<Figure size 432x288 with 1 Axes>"
      ]
     },
     "metadata": {
      "needs_background": "light"
     },
     "output_type": "display_data"
    }
   ],
   "source": [
    "pt.scatter(x7,y1)"
   ]
  },
  {
   "cell_type": "code",
   "execution_count": 36,
   "id": "45ca523a",
   "metadata": {},
   "outputs": [
    {
     "data": {
      "text/plain": [
       "<matplotlib.collections.PathCollection at 0x209c97e9fa0>"
      ]
     },
     "execution_count": 36,
     "metadata": {},
     "output_type": "execute_result"
    },
    {
     "data": {
      "image/png": "[encoded data removed]",
      "text/plain": [
       "<Figure size 432x288 with 1 Axes>"
      ]
     },
     "metadata": {
      "needs_background": "light"
     },
     "output_type": "display_data"
    }
   ],
   "source": [
    "pt.scatter(x8,y1)"
   ]
  },
  {
   "cell_type": "code",
   "execution_count": 37,
   "id": "89bcb826",
   "metadata": {},
   "outputs": [
    {
     "data": {
      "text/plain": [
       "<matplotlib.collections.PathCollection at 0x209c9852f10>"
      ]
     },
     "execution_count": 37,
     "metadata": {},
     "output_type": "execute_result"
    },
    {
     "data": {
      "image/png": "[encoded data removed]",
      "text/plain": [
       "<Figure size 432x288 with 1 Axes>"
      ]
     },
     "metadata": {
      "needs_background": "light"
     },
     "output_type": "display_data"
    }
   ],
   "source": [
    "pt.scatter(x1,y2)"
   ]
  },
  {
   "cell_type": "code",
   "execution_count": 38,
   "id": "bc24a0f4",
   "metadata": {},
   "outputs": [
    {
     "data": {
      "text/plain": [
       "<matplotlib.collections.PathCollection at 0x209c98c56a0>"
      ]
     },
     "execution_count": 38,
     "metadata": {},
     "output_type": "execute_result"
    },
    {
     "data": {
      "image/png": "[encoded data removed]",
      "text/plain": [
       "<Figure size 432x288 with 1 Axes>"
      ]
     },
     "metadata": {
      "needs_background": "light"
     },
     "output_type": "display_data"
    }
   ],
   "source": [
    "pt.scatter(x2,y2)"
   ]
  },
  {
   "cell_type": "code",
   "execution_count": 40,
   "id": "5c517e0e",
   "metadata": {},
   "outputs": [
    {
     "data": {
      "text/plain": [
       "<matplotlib.collections.PathCollection at 0x209c993cb80>"
      ]
     },
     "execution_count": 40,
     "metadata": {},
     "output_type": "execute_result"
    },
    {
     "data": {
      "image/png": "[encoded data removed]",
      "text/plain": [
       "<Figure size 432x288 with 1 Axes>"
      ]
     },
     "metadata": {
      "needs_background": "light"
     },
     "output_type": "display_data"
    }
   ],
   "source": [
    "pt.scatter(x3,y2)"
   ]
  },
  {
   "cell_type": "code",
   "execution_count": 41,
   "id": "4abde423",
   "metadata": {},
   "outputs": [
    {
     "data": {
      "text/plain": [
       "<matplotlib.collections.PathCollection at 0x209c99b0700>"
      ]
     },
     "execution_count": 41,
     "metadata": {},
     "output_type": "execute_result"
    },
    {
     "data": {
      "image/png": "[encoded data removed]",
      "text/plain": [
       "<Figure size 432x288 with 1 Axes>"
      ]
     },
     "metadata": {
      "needs_background": "light"
     },
     "output_type": "display_data"
    }
   ],
   "source": [
    "pt.scatter(x4,y2)"
   ]
  },
  {
   "cell_type": "code",
   "execution_count": 42,
   "id": "cb0f217b",
   "metadata": {},
   "outputs": [
    {
     "data": {
      "text/plain": [
       "<matplotlib.collections.PathCollection at 0x209c9a172e0>"
      ]
     },
     "execution_count": 42,
     "metadata": {},
     "output_type": "execute_result"
    },
    {
     "data": {
      "image/png": "[encoded data removed]",
      "text/plain": [
       "<Figure size 432x288 with 1 Axes>"
      ]
     },
     "metadata": {
      "needs_background": "light"
     },
     "output_type": "display_data"
    }
   ],
   "source": [
    "pt.scatter(x5,y2)"
   ]
  },
  {
   "cell_type": "code",
   "execution_count": 43,
   "id": "81dedb7b",
   "metadata": {},
   "outputs": [
    {
     "data": {
      "text/plain": [
       "<matplotlib.collections.PathCollection at 0x209c99c9250>"
      ]
     },
     "execution_count": 43,
     "metadata": {},
     "output_type": "execute_result"
    },
    {
     "data": {
      "image/png": "[encoded data removed]",
      "text/plain": [
       "<Figure size 432x288 with 1 Axes>"
      ]
     },
     "metadata": {
      "needs_background": "light"
     },
     "output_type": "display_data"
    }
   ],
   "source": [
    "pt.scatter(x6,y2)"
   ]
  },
  {
   "cell_type": "code",
   "execution_count": 44,
   "id": "221f1c8f",
   "metadata": {},
   "outputs": [
    {
     "data": {
      "text/plain": [
       "<matplotlib.collections.PathCollection at 0x209c9ae47c0>"
      ]
     },
     "execution_count": 44,
     "metadata": {},
     "output_type": "execute_result"
    },
    {
     "data": {
      "image/png": "[encoded data removed]",
      "text/plain": [
       "<Figure size 432x288 with 1 Axes>"
      ]
     },
     "metadata": {
      "needs_background": "light"
     },
     "output_type": "display_data"
    }
   ],
   "source": [
    "pt.scatter(x7,y2)"
   ]
  },
  {
   "cell_type": "code",
   "execution_count": 45,
   "id": "c6d3421a",
   "metadata": {},
   "outputs": [
    {
     "data": {
      "text/plain": [
       "<matplotlib.collections.PathCollection at 0x209c9b558e0>"
      ]
     },
     "execution_count": 45,
     "metadata": {},
     "output_type": "execute_result"
    },
    {
     "data": {
      "image/png": "[encoded data removed]",
      "text/plain": [
       "<Figure size 432x288 with 1 Axes>"
      ]
     },
     "metadata": {
      "needs_background": "light"
     },
     "output_type": "display_data"
    }
   ],
   "source": [
    "pt.scatter(x8,y2)"
   ]
  },
  {
   "cell_type": "code",
   "execution_count": null,
   "id": "28cd16fe",
   "metadata": {},
   "outputs": [],
   "source": []
  }
 ],
 "metadata": {
  "kernelspec": {
   "display_name": "Python 3 (ipykernel)",
   "language": "python",
   "name": "python3"
  },
  "language_info": {
   "codemirror_mode": {
    "name": "ipython",
    "version": 3
   },
   "file_extension": ".py",
   "mimetype": "text/x-python",
   "name": "python",
   "nbconvert_exporter": "python",
   "pygments_lexer": "ipython3",
   "version": "3.9.7"
  }
 },
 "nbformat": 4,
 "nbformat_minor": 5
}
